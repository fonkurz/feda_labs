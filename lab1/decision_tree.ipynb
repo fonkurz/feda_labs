{
 "cells": [
  {
   "cell_type": "markdown",
   "metadata": {},
   "source": [
    "Задача 1. Оцінювання дефолту клієнта за допомогою скорингової моделі на основі дерев рішень \n",
    "1. Для набору навчальних даних з файлу Data_Base_I.xls розбити вхідну вибірку на навчальну та тестову (для перевірки якості моделі використати не менше 10% вхідної вибірки).\n",
    "2. Застосувати щонайменше 2 різних алгоритми побудови дерев рішень, побудувати дерева рішень та визначити ймовірність події – дефолту клієнта.\n",
    "3. Виконати перевірку якості моделей за допомогою тестової вибірки.\n",
    "4. Обчислити загальну похибку моделей (CA – common accuracy) та похибки класифікації –1-го, 2-го роду на навчальній та тестовій вибірці.\n",
    "5. Побудувати скорингові моделі у вигляді дерева рішень, використовуючи різні значення порогу. При класифікації розгляньте випадки 95%, 90%, 85 та 80%.\n",
    "6. Занести результати моделювання з різними порогами та різними алгоритмами побудови у порівняльну таблицю.\n",
    "7. Оформити протокол у вигляді порівняння обох методів, структур дерев та зробити висновки.\n"
   ]
  },
  {
   "cell_type": "code",
   "execution_count": 56,
   "metadata": {},
   "outputs": [],
   "source": [
    "import numpy as np\n",
    "import matplotlib as plt\n",
    "import tensorflow as tf\n",
    "import pandas as pd"
   ]
  },
  {
   "cell_type": "code",
   "execution_count": 57,
   "metadata": {},
   "outputs": [
    {
     "data": {
      "text/html": [
       "<div>\n",
       "<style scoped>\n",
       "    .dataframe tbody tr th:only-of-type {\n",
       "        vertical-align: middle;\n",
       "    }\n",
       "\n",
       "    .dataframe tbody tr th {\n",
       "        vertical-align: top;\n",
       "    }\n",
       "\n",
       "    .dataframe thead th {\n",
       "        text-align: right;\n",
       "    }\n",
       "</style>\n",
       "<table border=\"1\" class=\"dataframe\">\n",
       "  <thead>\n",
       "    <tr style=\"text-align: right;\">\n",
       "      <th></th>\n",
       "      <th>Gender</th>\n",
       "      <th>Age</th>\n",
       "      <th>Сredit_sum</th>\n",
       "      <th>Currency</th>\n",
       "      <th>Term_of_crediting_in day</th>\n",
       "      <th>Interest rate_%</th>\n",
       "      <th>Duration_of_stay_in_a_sity</th>\n",
       "      <th>Maritial_status</th>\n",
       "      <th>Children</th>\n",
       "      <th>Job_position</th>\n",
       "      <th>Tenure_with_current_employer</th>\n",
       "      <th>Term_of_existence_of_enterprise</th>\n",
       "      <th>Company_type</th>\n",
       "      <th>Number_of_employees_in_kompany</th>\n",
       "      <th>Income_customer</th>\n",
       "      <th>Costs_customer</th>\n",
       "      <th>goal_credit</th>\n",
       "      <th>Result</th>\n",
       "    </tr>\n",
       "  </thead>\n",
       "  <tbody>\n",
       "    <tr>\n",
       "      <th>0</th>\n",
       "      <td>Female</td>\n",
       "      <td>27</td>\n",
       "      <td>850</td>\n",
       "      <td>UAH</td>\n",
       "      <td>360</td>\n",
       "      <td>18</td>\n",
       "      <td>24_60</td>\n",
       "      <td>SINGLE</td>\n",
       "      <td>c0</td>\n",
       "      <td>PE</td>\n",
       "      <td>24_60</td>\n",
       "      <td>24_60</td>\n",
       "      <td>FS</td>\n",
       "      <td>100_9999</td>\n",
       "      <td>674</td>\n",
       "      <td>362</td>\n",
       "      <td>consumer_credit</td>\n",
       "      <td>good</td>\n",
       "    </tr>\n",
       "    <tr>\n",
       "      <th>1</th>\n",
       "      <td>Male</td>\n",
       "      <td>35</td>\n",
       "      <td>400</td>\n",
       "      <td>USD</td>\n",
       "      <td>240</td>\n",
       "      <td>12</td>\n",
       "      <td>24_60</td>\n",
       "      <td>SINGLE</td>\n",
       "      <td>c0</td>\n",
       "      <td>AS</td>\n",
       "      <td>24_60</td>\n",
       "      <td>24_60</td>\n",
       "      <td>FMG</td>\n",
       "      <td>51_100</td>\n",
       "      <td>690</td>\n",
       "      <td>342</td>\n",
       "      <td>consumer_credit</td>\n",
       "      <td>bad</td>\n",
       "    </tr>\n",
       "    <tr>\n",
       "      <th>2</th>\n",
       "      <td>Male</td>\n",
       "      <td>43</td>\n",
       "      <td>2750</td>\n",
       "      <td>UAH</td>\n",
       "      <td>240</td>\n",
       "      <td>14</td>\n",
       "      <td>24_60</td>\n",
       "      <td>MARRIED</td>\n",
       "      <td>c1</td>\n",
       "      <td>AS</td>\n",
       "      <td>12_18</td>\n",
       "      <td>12_24</td>\n",
       "      <td>OT</td>\n",
       "      <td>31_50</td>\n",
       "      <td>1588</td>\n",
       "      <td>767</td>\n",
       "      <td>consumer_credit</td>\n",
       "      <td>good</td>\n",
       "    </tr>\n",
       "    <tr>\n",
       "      <th>3</th>\n",
       "      <td>Male</td>\n",
       "      <td>43</td>\n",
       "      <td>15000</td>\n",
       "      <td>USD</td>\n",
       "      <td>1800</td>\n",
       "      <td>15</td>\n",
       "      <td>60_120</td>\n",
       "      <td>MARRIED</td>\n",
       "      <td>c1</td>\n",
       "      <td>TM</td>\n",
       "      <td>24_60</td>\n",
       "      <td>24_60</td>\n",
       "      <td>OT</td>\n",
       "      <td>0_5</td>\n",
       "      <td>4869</td>\n",
       "      <td>800</td>\n",
       "      <td>consumer_credit</td>\n",
       "      <td>bad</td>\n",
       "    </tr>\n",
       "    <tr>\n",
       "      <th>4</th>\n",
       "      <td>Male</td>\n",
       "      <td>28</td>\n",
       "      <td>2500</td>\n",
       "      <td>UAH</td>\n",
       "      <td>1080</td>\n",
       "      <td>18</td>\n",
       "      <td>60_120</td>\n",
       "      <td>SINGLE</td>\n",
       "      <td>c0</td>\n",
       "      <td>PE</td>\n",
       "      <td>0_3</td>\n",
       "      <td>0_12</td>\n",
       "      <td>FS</td>\n",
       "      <td>100_9999</td>\n",
       "      <td>637</td>\n",
       "      <td>382</td>\n",
       "      <td>consumer_credit</td>\n",
       "      <td>good</td>\n",
       "    </tr>\n",
       "  </tbody>\n",
       "</table>\n",
       "</div>"
      ],
      "text/plain": [
       "   Gender  Age  Сredit_sum Currency  Term_of_crediting_in day  \\\n",
       "0  Female   27         850      UAH                       360   \n",
       "1    Male   35         400      USD                       240   \n",
       "2    Male   43        2750      UAH                       240   \n",
       "3    Male   43       15000      USD                      1800   \n",
       "4    Male   28        2500      UAH                      1080   \n",
       "\n",
       "   Interest rate_% Duration_of_stay_in_a_sity  Maritial_status Children  \\\n",
       "0               18                       24_60          SINGLE       c0   \n",
       "1               12                       24_60          SINGLE       c0   \n",
       "2               14                       24_60         MARRIED       c1   \n",
       "3               15                      60_120         MARRIED       c1   \n",
       "4               18                      60_120          SINGLE       c0   \n",
       "\n",
       "  Job_position Tenure_with_current_employer Term_of_existence_of_enterprise  \\\n",
       "0           PE                        24_60                           24_60   \n",
       "1           AS                        24_60                           24_60   \n",
       "2           AS                        12_18                           12_24   \n",
       "3           TM                        24_60                           24_60   \n",
       "4           PE                          0_3                            0_12   \n",
       "\n",
       "  Company_type Number_of_employees_in_kompany   Income_customer  \\\n",
       "0           FS                        100_9999              674   \n",
       "1          FMG                          51_100              690   \n",
       "2           OT                           31_50             1588   \n",
       "3           OT                             0_5             4869   \n",
       "4           FS                        100_9999              637   \n",
       "\n",
       "   Costs_customer      goal_credit Result  \n",
       "0             362  consumer_credit   good  \n",
       "1             342  consumer_credit    bad  \n",
       "2             767  consumer_credit   good  \n",
       "3             800  consumer_credit    bad  \n",
       "4             382  consumer_credit   good  "
      ]
     },
     "execution_count": 57,
     "metadata": {},
     "output_type": "execute_result"
    }
   ],
   "source": [
    "df = pd.read_csv('DataBase.csv')\n",
    "\n",
    "df.head()"
   ]
  },
  {
   "cell_type": "code",
   "execution_count": 58,
   "metadata": {},
   "outputs": [
    {
     "data": {
      "text/plain": [
       "0"
      ]
     },
     "execution_count": 58,
     "metadata": {},
     "output_type": "execute_result"
    }
   ],
   "source": [
    "df.isnull().sum().sum()"
   ]
  },
  {
   "cell_type": "markdown",
   "metadata": {},
   "source": [
    "There are no missing values in this dataset"
   ]
  },
  {
   "cell_type": "code",
   "execution_count": 59,
   "metadata": {},
   "outputs": [
    {
     "data": {
      "text/plain": [
       "Gender                                                                [Female, Male]\n",
       "Age                                [27, 35, 43, 28, 29, 38, 33, 37, 32, 47, 41, 4...\n",
       "Сredit_sum                         [850, 400, 2750, 15000, 2500, 2215, 54600, 200...\n",
       "Currency                                              [UAH, USD, EUR, 0,  USD,  UAH]\n",
       "Term_of_crediting_in day           [360, 240, 1800, 1080, 90, 2520, 60, 720, 1080...\n",
       "Interest rate_%                    [18, 12, 14, 15, 20, 19, 22, 26, 16, 17, 23, 1...\n",
       "Duration_of_stay_in_a_sity          [24_60, 60_120, 120_9999, 12_24, 6_12, 3_6, 0_3]\n",
       "Maritial_status                           [SINGLE, MARRIED, DIVORCED, CIVILMARRIAGE]\n",
       "Children                                                            [c0, c1, c2, c3]\n",
       "Job_position                                                    [PE, AS, TM, SP, MM]\n",
       "Tenure_with_current_employer       [24_60, 12_18, 0_3, 60_120, 120_9999, 3_6, 18_...\n",
       "Term_of_existence_of_enterprise               [24_60, 12_24, 0_12, 120_9999, 60_120]\n",
       "Company_type                       [FS, FMG, OT, WB, EC, HI, MPP, ASTL, EOG, ITT,...\n",
       "Number_of_employees_in_kompany                  [100_9999, 51_100, 31_50, 0_5, 6_15]\n",
       "Income_customer                    [674, 690, 1588, 4869, 637, 745, 3648, 960, 80...\n",
       "Costs_customer                     [362, 342, 767, 800, 382, 355, 730, 3528, 365,...\n",
       "goal_credit                        [consumer_credit, flat, house, overhaul, auto,...\n",
       "Result                                                                   [good, bad]\n",
       "dtype: object"
      ]
     },
     "execution_count": 59,
     "metadata": {},
     "output_type": "execute_result"
    }
   ],
   "source": [
    "df.apply(lambda x: x.unique())"
   ]
  },
  {
   "cell_type": "code",
   "execution_count": 60,
   "metadata": {},
   "outputs": [
    {
     "name": "stderr",
     "output_type": "stream",
     "text": [
      "/var/folders/vg/lfx3769n7_560g_6160v_23m0000gn/T/ipykernel_15819/4275293213.py:1: FutureWarning: A value is trying to be set on a copy of a DataFrame or Series through chained assignment using an inplace method.\n",
      "The behavior will change in pandas 3.0. This inplace method will never work because the intermediate object on which we are setting values always behaves as a copy.\n",
      "\n",
      "For example, when doing 'df[col].method(value, inplace=True)', try using 'df.method({col: value}, inplace=True)' or df[col] = df[col].method(value) instead, to perform the operation inplace on the original object.\n",
      "\n",
      "\n",
      "  df['Currency'].replace('0', np.nan, inplace=True)\n"
     ]
    }
   ],
   "source": [
    "df['Currency'].replace('0', np.nan, inplace=True)"
   ]
  },
  {
   "cell_type": "markdown",
   "metadata": {},
   "source": [
    "We see potential columns to pay attantion to"
   ]
  },
  {
   "cell_type": "markdown",
   "metadata": {},
   "source": [
    "### Gender"
   ]
  },
  {
   "cell_type": "code",
   "execution_count": 61,
   "metadata": {},
   "outputs": [
    {
     "data": {
      "text/plain": [
       "Gender\n",
       "Male      8136\n",
       "Female    6864\n",
       "Name: count, dtype: int64"
      ]
     },
     "execution_count": 61,
     "metadata": {},
     "output_type": "execute_result"
    }
   ],
   "source": [
    "df['Gender'].value_counts()"
   ]
  },
  {
   "cell_type": "code",
   "execution_count": 62,
   "metadata": {},
   "outputs": [],
   "source": [
    "df = pd.get_dummies(df, columns=['Gender'])"
   ]
  },
  {
   "cell_type": "code",
   "execution_count": 63,
   "metadata": {},
   "outputs": [
    {
     "data": {
      "text/html": [
       "<div>\n",
       "<style scoped>\n",
       "    .dataframe tbody tr th:only-of-type {\n",
       "        vertical-align: middle;\n",
       "    }\n",
       "\n",
       "    .dataframe tbody tr th {\n",
       "        vertical-align: top;\n",
       "    }\n",
       "\n",
       "    .dataframe thead th {\n",
       "        text-align: right;\n",
       "    }\n",
       "</style>\n",
       "<table border=\"1\" class=\"dataframe\">\n",
       "  <thead>\n",
       "    <tr style=\"text-align: right;\">\n",
       "      <th></th>\n",
       "      <th>Gender_Female</th>\n",
       "      <th>Gender_Male</th>\n",
       "    </tr>\n",
       "  </thead>\n",
       "  <tbody>\n",
       "    <tr>\n",
       "      <th>0</th>\n",
       "      <td>True</td>\n",
       "      <td>False</td>\n",
       "    </tr>\n",
       "    <tr>\n",
       "      <th>1</th>\n",
       "      <td>False</td>\n",
       "      <td>True</td>\n",
       "    </tr>\n",
       "    <tr>\n",
       "      <th>2</th>\n",
       "      <td>False</td>\n",
       "      <td>True</td>\n",
       "    </tr>\n",
       "    <tr>\n",
       "      <th>3</th>\n",
       "      <td>False</td>\n",
       "      <td>True</td>\n",
       "    </tr>\n",
       "    <tr>\n",
       "      <th>4</th>\n",
       "      <td>False</td>\n",
       "      <td>True</td>\n",
       "    </tr>\n",
       "  </tbody>\n",
       "</table>\n",
       "</div>"
      ],
      "text/plain": [
       "   Gender_Female  Gender_Male\n",
       "0           True        False\n",
       "1          False         True\n",
       "2          False         True\n",
       "3          False         True\n",
       "4          False         True"
      ]
     },
     "execution_count": 63,
     "metadata": {},
     "output_type": "execute_result"
    }
   ],
   "source": [
    "df[['Gender_Female', 'Gender_Male']].head()"
   ]
  },
  {
   "cell_type": "markdown",
   "metadata": {},
   "source": [
    "### Age"
   ]
  },
  {
   "cell_type": "code",
   "execution_count": 64,
   "metadata": {},
   "outputs": [
    {
     "data": {
      "text/plain": [
       "<Axes: title={'center': 'Age Distribution'}, ylabel='Frequency'>"
      ]
     },
     "execution_count": 64,
     "metadata": {},
     "output_type": "execute_result"
    },
    {
     "data": {
      "image/png": "[encoded data removed]",
      "text/plain": [
       "<Figure size 640x480 with 1 Axes>"
      ]
     },
     "metadata": {},
     "output_type": "display_data"
    }
   ],
   "source": [
    "num_bins = len(df['Age'].unique())\n",
    "df['Age'].plot(kind='hist', bins=num_bins, title='Age Distribution')"
   ]
  },
  {
   "cell_type": "code",
   "execution_count": 65,
   "metadata": {},
   "outputs": [
    {
     "data": {
      "text/plain": [
       "count    15000.000000\n",
       "mean        40.587867\n",
       "std          9.460069\n",
       "min         23.000000\n",
       "25%         33.000000\n",
       "50%         39.000000\n",
       "75%         48.000000\n",
       "max         65.000000\n",
       "Name: Age, dtype: float64"
      ]
     },
     "execution_count": 65,
     "metadata": {},
     "output_type": "execute_result"
    }
   ],
   "source": [
    "df['Age'].describe()"
   ]
  },
  {
   "cell_type": "markdown",
   "metadata": {},
   "source": [
    "I will return to it later to understand if i need to categorise this feature"
   ]
  },
  {
   "cell_type": "markdown",
   "metadata": {},
   "source": [
    "### Credit Sum"
   ]
  },
  {
   "cell_type": "code",
   "execution_count": 66,
   "metadata": {},
   "outputs": [
    {
     "data": {
      "text/plain": [
       "<Axes: title={'center': 'Credit Sum Distibution'}, ylabel='Frequency'>"
      ]
     },
     "execution_count": 66,
     "metadata": {},
     "output_type": "execute_result"
    },
    {
     "data": {
      "image/png": "[encoded data removed]",
      "text/plain": [
       "<Figure size 640x480 with 1 Axes>"
      ]
     },
     "metadata": {},
     "output_type": "display_data"
    }
   ],
   "source": [
    "num_bins = len(df['Сredit_sum'].unique())\n",
    "df['Сredit_sum'].plot(kind='hist', bins=num_bins, title='Credit Sum Distibution')"
   ]
  },
  {
   "cell_type": "markdown",
   "metadata": {},
   "source": [
    "Normalisation/logarythmisation?"
   ]
  },
  {
   "cell_type": "code",
   "execution_count": 67,
   "metadata": {},
   "outputs": [],
   "source": [
    "df['Currency'] = df['Currency'].str.strip()"
   ]
  },
  {
   "cell_type": "code",
   "execution_count": 68,
   "metadata": {},
   "outputs": [
    {
     "data": {
      "text/plain": [
       "array(['UAH', 'USD', 'EUR', nan], dtype=object)"
      ]
     },
     "execution_count": 68,
     "metadata": {},
     "output_type": "execute_result"
    }
   ],
   "source": [
    "df['Currency'].unique()"
   ]
  },
  {
   "cell_type": "code",
   "execution_count": 69,
   "metadata": {},
   "outputs": [
    {
     "name": "stderr",
     "output_type": "stream",
     "text": [
      "/var/folders/vg/lfx3769n7_560g_6160v_23m0000gn/T/ipykernel_15819/4275293213.py:1: FutureWarning: A value is trying to be set on a copy of a DataFrame or Series through chained assignment using an inplace method.\n",
      "The behavior will change in pandas 3.0. This inplace method will never work because the intermediate object on which we are setting values always behaves as a copy.\n",
      "\n",
      "For example, when doing 'df[col].method(value, inplace=True)', try using 'df.method({col: value}, inplace=True)' or df[col] = df[col].method(value) instead, to perform the operation inplace on the original object.\n",
      "\n",
      "\n",
      "  df['Currency'].replace('0', np.nan, inplace=True)\n"
     ]
    }
   ],
   "source": [
    "df['Currency'].replace('0', np.nan, inplace=True)"
   ]
  },
  {
   "cell_type": "code",
   "execution_count": 70,
   "metadata": {},
   "outputs": [
    {
     "name": "stdout",
     "output_type": "stream",
     "text": [
      "['UAH' 'USD' 'EUR' nan]\n"
     ]
    }
   ],
   "source": [
    "print(df['Currency'].unique())"
   ]
  },
  {
   "cell_type": "code",
   "execution_count": 71,
   "metadata": {},
   "outputs": [
    {
     "data": {
      "text/html": [
       "<div>\n",
       "<style scoped>\n",
       "    .dataframe tbody tr th:only-of-type {\n",
       "        vertical-align: middle;\n",
       "    }\n",
       "\n",
       "    .dataframe tbody tr th {\n",
       "        vertical-align: top;\n",
       "    }\n",
       "\n",
       "    .dataframe thead th {\n",
       "        text-align: right;\n",
       "    }\n",
       "</style>\n",
       "<table border=\"1\" class=\"dataframe\">\n",
       "  <thead>\n",
       "    <tr style=\"text-align: right;\">\n",
       "      <th></th>\n",
       "      <th>Age</th>\n",
       "      <th>Сredit_sum</th>\n",
       "      <th>Currency</th>\n",
       "      <th>Term_of_crediting_in day</th>\n",
       "      <th>Interest rate_%</th>\n",
       "      <th>Duration_of_stay_in_a_sity</th>\n",
       "      <th>Maritial_status</th>\n",
       "      <th>Children</th>\n",
       "      <th>Job_position</th>\n",
       "      <th>Tenure_with_current_employer</th>\n",
       "      <th>Term_of_existence_of_enterprise</th>\n",
       "      <th>Company_type</th>\n",
       "      <th>Number_of_employees_in_kompany</th>\n",
       "      <th>Income_customer</th>\n",
       "      <th>Costs_customer</th>\n",
       "      <th>goal_credit</th>\n",
       "      <th>Result</th>\n",
       "      <th>Gender_Female</th>\n",
       "      <th>Gender_Male</th>\n",
       "    </tr>\n",
       "  </thead>\n",
       "  <tbody>\n",
       "    <tr>\n",
       "      <th>5251</th>\n",
       "      <td>44</td>\n",
       "      <td>2619</td>\n",
       "      <td>NaN</td>\n",
       "      <td>360</td>\n",
       "      <td>28</td>\n",
       "      <td>120_9999</td>\n",
       "      <td>MARRIED</td>\n",
       "      <td>c2</td>\n",
       "      <td>AS</td>\n",
       "      <td>120_9999</td>\n",
       "      <td>120_9999</td>\n",
       "      <td>OT</td>\n",
       "      <td>100_9999</td>\n",
       "      <td>1138</td>\n",
       "      <td>155</td>\n",
       "      <td>consumer_credit</td>\n",
       "      <td>good</td>\n",
       "      <td>True</td>\n",
       "      <td>False</td>\n",
       "    </tr>\n",
       "    <tr>\n",
       "      <th>14249</th>\n",
       "      <td>40</td>\n",
       "      <td>96000</td>\n",
       "      <td>NaN</td>\n",
       "      <td>5400</td>\n",
       "      <td>13</td>\n",
       "      <td>6_12</td>\n",
       "      <td>MARRIED</td>\n",
       "      <td>c1</td>\n",
       "      <td>AS</td>\n",
       "      <td>24_60</td>\n",
       "      <td>24_60</td>\n",
       "      <td>WB</td>\n",
       "      <td>0_5</td>\n",
       "      <td>8397</td>\n",
       "      <td>0</td>\n",
       "      <td>flat</td>\n",
       "      <td>good</td>\n",
       "      <td>True</td>\n",
       "      <td>False</td>\n",
       "    </tr>\n",
       "  </tbody>\n",
       "</table>\n",
       "</div>"
      ],
      "text/plain": [
       "       Age  Сredit_sum Currency  Term_of_crediting_in day  Interest rate_%  \\\n",
       "5251    44        2619      NaN                       360               28   \n",
       "14249   40       96000      NaN                      5400               13   \n",
       "\n",
       "      Duration_of_stay_in_a_sity  Maritial_status Children Job_position  \\\n",
       "5251                     120_9999         MARRIED       c2           AS   \n",
       "14249                        6_12         MARRIED       c1           AS   \n",
       "\n",
       "      Tenure_with_current_employer Term_of_existence_of_enterprise  \\\n",
       "5251                      120_9999                        120_9999   \n",
       "14249                        24_60                           24_60   \n",
       "\n",
       "      Company_type Number_of_employees_in_kompany   Income_customer  \\\n",
       "5251            OT                        100_9999             1138   \n",
       "14249           WB                             0_5             8397   \n",
       "\n",
       "       Costs_customer      goal_credit Result  Gender_Female  Gender_Male  \n",
       "5251              155  consumer_credit   good           True        False  \n",
       "14249               0             flat   good           True        False  "
      ]
     },
     "execution_count": 71,
     "metadata": {},
     "output_type": "execute_result"
    }
   ],
   "source": [
    "df.loc[df['Currency'].isnull()]"
   ]
  },
  {
   "cell_type": "code",
   "execution_count": 72,
   "metadata": {},
   "outputs": [],
   "source": [
    "df.dropna(subset=['Currency'], inplace=True)"
   ]
  },
  {
   "cell_type": "code",
   "execution_count": 73,
   "metadata": {},
   "outputs": [
    {
     "data": {
      "text/plain": [
       "array(['UAH', 'USD', 'EUR'], dtype=object)"
      ]
     },
     "execution_count": 73,
     "metadata": {},
     "output_type": "execute_result"
    }
   ],
   "source": [
    "df['Currency'].unique()"
   ]
  },
  {
   "cell_type": "code",
   "execution_count": 74,
   "metadata": {},
   "outputs": [
    {
     "data": {
      "text/html": [
       "<div>\n",
       "<style scoped>\n",
       "    .dataframe tbody tr th:only-of-type {\n",
       "        vertical-align: middle;\n",
       "    }\n",
       "\n",
       "    .dataframe tbody tr th {\n",
       "        vertical-align: top;\n",
       "    }\n",
       "\n",
       "    .dataframe thead th {\n",
       "        text-align: right;\n",
       "    }\n",
       "</style>\n",
       "<table border=\"1\" class=\"dataframe\">\n",
       "  <thead>\n",
       "    <tr style=\"text-align: right;\">\n",
       "      <th></th>\n",
       "      <th>Currency</th>\n",
       "      <th>Location</th>\n",
       "    </tr>\n",
       "  </thead>\n",
       "  <tbody>\n",
       "    <tr>\n",
       "      <th>0</th>\n",
       "      <td>UAH</td>\n",
       "      <td>UA</td>\n",
       "    </tr>\n",
       "    <tr>\n",
       "      <th>1</th>\n",
       "      <td>USD</td>\n",
       "      <td>USA</td>\n",
       "    </tr>\n",
       "    <tr>\n",
       "      <th>2</th>\n",
       "      <td>UAH</td>\n",
       "      <td>UA</td>\n",
       "    </tr>\n",
       "    <tr>\n",
       "      <th>3</th>\n",
       "      <td>USD</td>\n",
       "      <td>USA</td>\n",
       "    </tr>\n",
       "    <tr>\n",
       "      <th>4</th>\n",
       "      <td>UAH</td>\n",
       "      <td>UA</td>\n",
       "    </tr>\n",
       "  </tbody>\n",
       "</table>\n",
       "</div>"
      ],
      "text/plain": [
       "  Currency Location\n",
       "0      UAH       UA\n",
       "1      USD      USA\n",
       "2      UAH       UA\n",
       "3      USD      USA\n",
       "4      UAH       UA"
      ]
     },
     "execution_count": 74,
     "metadata": {},
     "output_type": "execute_result"
    }
   ],
   "source": [
    "df['Location'] = df['Currency'].map({'USD': 'USA', 'UAH': 'UA', 'EUR': 'EU'})\n",
    "\n",
    "df[['Currency', 'Location']].head()"
   ]
  },
  {
   "cell_type": "code",
   "execution_count": 75,
   "metadata": {},
   "outputs": [
    {
     "data": {
      "text/html": [
       "<div>\n",
       "<style scoped>\n",
       "    .dataframe tbody tr th:only-of-type {\n",
       "        vertical-align: middle;\n",
       "    }\n",
       "\n",
       "    .dataframe tbody tr th {\n",
       "        vertical-align: top;\n",
       "    }\n",
       "\n",
       "    .dataframe thead th {\n",
       "        text-align: right;\n",
       "    }\n",
       "</style>\n",
       "<table border=\"1\" class=\"dataframe\">\n",
       "  <thead>\n",
       "    <tr style=\"text-align: right;\">\n",
       "      <th></th>\n",
       "      <th>Сredit_sum</th>\n",
       "      <th>Income_customer</th>\n",
       "      <th>Costs_customer</th>\n",
       "      <th>Currency</th>\n",
       "      <th>Credit_sum_in_UAH</th>\n",
       "      <th>Income_in_UAH</th>\n",
       "      <th>Costs_in_UAH</th>\n",
       "    </tr>\n",
       "  </thead>\n",
       "  <tbody>\n",
       "    <tr>\n",
       "      <th>0</th>\n",
       "      <td>850</td>\n",
       "      <td>674</td>\n",
       "      <td>362</td>\n",
       "      <td>UAH</td>\n",
       "      <td>850</td>\n",
       "      <td>674</td>\n",
       "      <td>362</td>\n",
       "    </tr>\n",
       "    <tr>\n",
       "      <th>1</th>\n",
       "      <td>400</td>\n",
       "      <td>690</td>\n",
       "      <td>342</td>\n",
       "      <td>USD</td>\n",
       "      <td>16400</td>\n",
       "      <td>28290</td>\n",
       "      <td>14022</td>\n",
       "    </tr>\n",
       "    <tr>\n",
       "      <th>2</th>\n",
       "      <td>2750</td>\n",
       "      <td>1588</td>\n",
       "      <td>767</td>\n",
       "      <td>UAH</td>\n",
       "      <td>2750</td>\n",
       "      <td>1588</td>\n",
       "      <td>767</td>\n",
       "    </tr>\n",
       "    <tr>\n",
       "      <th>3</th>\n",
       "      <td>15000</td>\n",
       "      <td>4869</td>\n",
       "      <td>800</td>\n",
       "      <td>USD</td>\n",
       "      <td>615000</td>\n",
       "      <td>199629</td>\n",
       "      <td>32800</td>\n",
       "    </tr>\n",
       "    <tr>\n",
       "      <th>4</th>\n",
       "      <td>2500</td>\n",
       "      <td>637</td>\n",
       "      <td>382</td>\n",
       "      <td>UAH</td>\n",
       "      <td>2500</td>\n",
       "      <td>637</td>\n",
       "      <td>382</td>\n",
       "    </tr>\n",
       "  </tbody>\n",
       "</table>\n",
       "</div>"
      ],
      "text/plain": [
       "   Сredit_sum  Income_customer  Costs_customer Currency  Credit_sum_in_UAH  \\\n",
       "0         850              674             362      UAH                850   \n",
       "1         400              690             342      USD              16400   \n",
       "2        2750             1588             767      UAH               2750   \n",
       "3       15000             4869             800      USD             615000   \n",
       "4        2500              637             382      UAH               2500   \n",
       "\n",
       "   Income_in_UAH  Costs_in_UAH  \n",
       "0            674           362  \n",
       "1          28290         14022  \n",
       "2           1588           767  \n",
       "3         199629         32800  \n",
       "4            637           382  "
      ]
     },
     "execution_count": 75,
     "metadata": {},
     "output_type": "execute_result"
    }
   ],
   "source": [
    "exchange_rates = {\n",
    "    'UAH': 1,   \n",
    "    'USD': 41,  \n",
    "    'EUR': 46   \n",
    "}\n",
    "\n",
    "df['Credit_sum_in_UAH'] = df['Сredit_sum'] * df['Currency'].map(exchange_rates)\n",
    "df['Income_in_UAH'] = df['Income_customer'] * df['Currency'].map(exchange_rates)\n",
    "df['Costs_in_UAH'] = df['Costs_customer'] * df['Currency'].map(exchange_rates)\n",
    "\n",
    "df[['Сredit_sum', 'Income_customer', 'Costs_customer', 'Currency', 'Credit_sum_in_UAH', 'Income_in_UAH', 'Costs_in_UAH']].head()"
   ]
  },
  {
   "cell_type": "code",
   "execution_count": 76,
   "metadata": {},
   "outputs": [],
   "source": [
    "df.drop(columns=['Сredit_sum', 'Income_customer', 'Costs_customer', 'Currency'], inplace=True)"
   ]
  },
  {
   "cell_type": "code",
   "execution_count": 77,
   "metadata": {},
   "outputs": [
    {
     "data": {
      "text/plain": [
       "Age                                [27, 35, 43, 28, 29, 38, 33, 37, 32, 47, 41, 4...\n",
       "Term_of_crediting_in day           [360, 240, 1800, 1080, 90, 2520, 60, 720, 1080...\n",
       "Interest rate_%                    [18, 12, 14, 15, 20, 19, 22, 26, 16, 17, 23, 1...\n",
       "Duration_of_stay_in_a_sity          [24_60, 60_120, 120_9999, 12_24, 6_12, 3_6, 0_3]\n",
       "Maritial_status                           [SINGLE, MARRIED, DIVORCED, CIVILMARRIAGE]\n",
       "Children                                                            [c0, c1, c2, c3]\n",
       "Job_position                                                    [PE, AS, TM, SP, MM]\n",
       "Tenure_with_current_employer       [24_60, 12_18, 0_3, 60_120, 120_9999, 3_6, 18_...\n",
       "Term_of_existence_of_enterprise               [24_60, 12_24, 0_12, 120_9999, 60_120]\n",
       "Company_type                       [FS, FMG, OT, WB, EC, HI, MPP, ASTL, EOG, ITT,...\n",
       "Number_of_employees_in_kompany                  [100_9999, 51_100, 31_50, 0_5, 6_15]\n",
       "goal_credit                        [consumer_credit, flat, house, overhaul, auto,...\n",
       "Result                                                                   [good, bad]\n",
       "Gender_Female                                                          [True, False]\n",
       "Gender_Male                                                            [False, True]\n",
       "Location                                                               [UA, USA, EU]\n",
       "Credit_sum_in_UAH                  [850, 16400, 2750, 615000, 2500, 2215, 54600, ...\n",
       "Income_in_UAH                      [674, 28290, 1588, 199629, 637, 745, 3648, 393...\n",
       "Costs_in_UAH                       [362, 14022, 767, 32800, 382, 355, 730, 15662,...\n",
       "dtype: object"
      ]
     },
     "execution_count": 77,
     "metadata": {},
     "output_type": "execute_result"
    }
   ],
   "source": [
    "df.apply(lambda x: x.unique())"
   ]
  }
 ],
 "metadata": {
  "kernelspec": {
   "display_name": "myenv",
   "language": "python",
   "name": "python3"
  },
  "language_info": {
   "codemirror_mode": {
    "name": "ipython",
    "version": 3
   },
   "file_extension": ".py",
   "mimetype": "text/x-python",
   "name": "python",
   "nbconvert_exporter": "python",
   "pygments_lexer": "ipython3",
   "version": "3.12.6"
  }
 },
 "nbformat": 4,
 "nbformat_minor": 2
}
