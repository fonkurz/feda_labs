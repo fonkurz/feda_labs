{
 "cells": [
  {
   "cell_type": "markdown",
   "metadata": {},
   "source": [
    "Задача 1. Оцінювання дефолту клієнта за допомогою скорингової моделі на основі дерев рішень \n",
    "1. Для набору навчальних даних з файлу Data_Base_I.xls розбити вхідну вибірку на навчальну та тестову (для перевірки якості моделі використати не менше 10% вхідної вибірки).\n",
    "2. Застосувати щонайменше 2 різних алгоритми побудови дерев рішень, побудувати дерева рішень та визначити ймовірність події – дефолту клієнта.\n",
    "3. Виконати перевірку якості моделей за допомогою тестової вибірки.\n",
    "4. Обчислити загальну похибку моделей (CA – common accuracy) та похибки класифікації –1-го, 2-го роду на навчальній та тестовій вибірці.\n",
    "5. Побудувати скорингові моделі у вигляді дерева рішень, використовуючи різні значення порогу. При класифікації розгляньте випадки 95%, 90%, 85 та 80%.\n",
    "6. Занести результати моделювання з різними порогами та різними алгоритмами побудови у порівняльну таблицю.\n",
    "7. Оформити протокол у вигляді порівняння обох методів, структур дерев та зробити висновки.\n"
   ]
  },
  {
   "cell_type": "code",
   "execution_count": 364,
   "metadata": {},
   "outputs": [],
   "source": [
    "import numpy as np\n",
    "import matplotlib.pyplot as plt\n",
    "import tensorflow as tf\n",
    "import pandas as pd"
   ]
  },
  {
   "cell_type": "code",
   "execution_count": 365,
   "metadata": {},
   "outputs": [
    {
     "data": {
      "text/html": [
       "<div>\n",
       "<style scoped>\n",
       "    .dataframe tbody tr th:only-of-type {\n",
       "        vertical-align: middle;\n",
       "    }\n",
       "\n",
       "    .dataframe tbody tr th {\n",
       "        vertical-align: top;\n",
       "    }\n",
       "\n",
       "    .dataframe thead th {\n",
       "        text-align: right;\n",
       "    }\n",
       "</style>\n",
       "<table border=\"1\" class=\"dataframe\">\n",
       "  <thead>\n",
       "    <tr style=\"text-align: right;\">\n",
       "      <th></th>\n",
       "      <th>Gender</th>\n",
       "      <th>Age</th>\n",
       "      <th>Сredit_sum</th>\n",
       "      <th>Currency</th>\n",
       "      <th>Term_of_crediting_in day</th>\n",
       "      <th>Interest rate_%</th>\n",
       "      <th>Duration_of_stay_in_a_sity</th>\n",
       "      <th>Maritial_status</th>\n",
       "      <th>Children</th>\n",
       "      <th>Job_position</th>\n",
       "      <th>Tenure_with_current_employer</th>\n",
       "      <th>Term_of_existence_of_enterprise</th>\n",
       "      <th>Company_type</th>\n",
       "      <th>Number_of_employees_in_kompany</th>\n",
       "      <th>Income_customer</th>\n",
       "      <th>Costs_customer</th>\n",
       "      <th>goal_credit</th>\n",
       "      <th>Result</th>\n",
       "    </tr>\n",
       "  </thead>\n",
       "  <tbody>\n",
       "    <tr>\n",
       "      <th>0</th>\n",
       "      <td>Female</td>\n",
       "      <td>27</td>\n",
       "      <td>850</td>\n",
       "      <td>UAH</td>\n",
       "      <td>360</td>\n",
       "      <td>18</td>\n",
       "      <td>24_60</td>\n",
       "      <td>SINGLE</td>\n",
       "      <td>c0</td>\n",
       "      <td>PE</td>\n",
       "      <td>24_60</td>\n",
       "      <td>24_60</td>\n",
       "      <td>FS</td>\n",
       "      <td>100_9999</td>\n",
       "      <td>674</td>\n",
       "      <td>362</td>\n",
       "      <td>consumer_credit</td>\n",
       "      <td>good</td>\n",
       "    </tr>\n",
       "    <tr>\n",
       "      <th>1</th>\n",
       "      <td>Male</td>\n",
       "      <td>35</td>\n",
       "      <td>400</td>\n",
       "      <td>USD</td>\n",
       "      <td>240</td>\n",
       "      <td>12</td>\n",
       "      <td>24_60</td>\n",
       "      <td>SINGLE</td>\n",
       "      <td>c0</td>\n",
       "      <td>AS</td>\n",
       "      <td>24_60</td>\n",
       "      <td>24_60</td>\n",
       "      <td>FMG</td>\n",
       "      <td>51_100</td>\n",
       "      <td>690</td>\n",
       "      <td>342</td>\n",
       "      <td>consumer_credit</td>\n",
       "      <td>bad</td>\n",
       "    </tr>\n",
       "    <tr>\n",
       "      <th>2</th>\n",
       "      <td>Male</td>\n",
       "      <td>43</td>\n",
       "      <td>2750</td>\n",
       "      <td>UAH</td>\n",
       "      <td>240</td>\n",
       "      <td>14</td>\n",
       "      <td>24_60</td>\n",
       "      <td>MARRIED</td>\n",
       "      <td>c1</td>\n",
       "      <td>AS</td>\n",
       "      <td>12_18</td>\n",
       "      <td>12_24</td>\n",
       "      <td>OT</td>\n",
       "      <td>31_50</td>\n",
       "      <td>1588</td>\n",
       "      <td>767</td>\n",
       "      <td>consumer_credit</td>\n",
       "      <td>good</td>\n",
       "    </tr>\n",
       "    <tr>\n",
       "      <th>3</th>\n",
       "      <td>Male</td>\n",
       "      <td>43</td>\n",
       "      <td>15000</td>\n",
       "      <td>USD</td>\n",
       "      <td>1800</td>\n",
       "      <td>15</td>\n",
       "      <td>60_120</td>\n",
       "      <td>MARRIED</td>\n",
       "      <td>c1</td>\n",
       "      <td>TM</td>\n",
       "      <td>24_60</td>\n",
       "      <td>24_60</td>\n",
       "      <td>OT</td>\n",
       "      <td>0_5</td>\n",
       "      <td>4869</td>\n",
       "      <td>800</td>\n",
       "      <td>consumer_credit</td>\n",
       "      <td>bad</td>\n",
       "    </tr>\n",
       "    <tr>\n",
       "      <th>4</th>\n",
       "      <td>Male</td>\n",
       "      <td>28</td>\n",
       "      <td>2500</td>\n",
       "      <td>UAH</td>\n",
       "      <td>1080</td>\n",
       "      <td>18</td>\n",
       "      <td>60_120</td>\n",
       "      <td>SINGLE</td>\n",
       "      <td>c0</td>\n",
       "      <td>PE</td>\n",
       "      <td>0_3</td>\n",
       "      <td>0_12</td>\n",
       "      <td>FS</td>\n",
       "      <td>100_9999</td>\n",
       "      <td>637</td>\n",
       "      <td>382</td>\n",
       "      <td>consumer_credit</td>\n",
       "      <td>good</td>\n",
       "    </tr>\n",
       "  </tbody>\n",
       "</table>\n",
       "</div>"
      ],
      "text/plain": [
       "   Gender  Age  Сredit_sum Currency  Term_of_crediting_in day  \\\n",
       "0  Female   27         850      UAH                       360   \n",
       "1    Male   35         400      USD                       240   \n",
       "2    Male   43        2750      UAH                       240   \n",
       "3    Male   43       15000      USD                      1800   \n",
       "4    Male   28        2500      UAH                      1080   \n",
       "\n",
       "   Interest rate_% Duration_of_stay_in_a_sity  Maritial_status Children  \\\n",
       "0               18                       24_60          SINGLE       c0   \n",
       "1               12                       24_60          SINGLE       c0   \n",
       "2               14                       24_60         MARRIED       c1   \n",
       "3               15                      60_120         MARRIED       c1   \n",
       "4               18                      60_120          SINGLE       c0   \n",
       "\n",
       "  Job_position Tenure_with_current_employer Term_of_existence_of_enterprise  \\\n",
       "0           PE                        24_60                           24_60   \n",
       "1           AS                        24_60                           24_60   \n",
       "2           AS                        12_18                           12_24   \n",
       "3           TM                        24_60                           24_60   \n",
       "4           PE                          0_3                            0_12   \n",
       "\n",
       "  Company_type Number_of_employees_in_kompany   Income_customer  \\\n",
       "0           FS                        100_9999              674   \n",
       "1          FMG                          51_100              690   \n",
       "2           OT                           31_50             1588   \n",
       "3           OT                             0_5             4869   \n",
       "4           FS                        100_9999              637   \n",
       "\n",
       "   Costs_customer      goal_credit Result  \n",
       "0             362  consumer_credit   good  \n",
       "1             342  consumer_credit    bad  \n",
       "2             767  consumer_credit   good  \n",
       "3             800  consumer_credit    bad  \n",
       "4             382  consumer_credit   good  "
      ]
     },
     "execution_count": 365,
     "metadata": {},
     "output_type": "execute_result"
    }
   ],
   "source": [
    "df = pd.read_csv('DataBase.csv')\n",
    "\n",
    "df.head()"
   ]
  },
  {
   "cell_type": "code",
   "execution_count": 366,
   "metadata": {},
   "outputs": [
    {
     "data": {
      "text/plain": [
       "0"
      ]
     },
     "execution_count": 366,
     "metadata": {},
     "output_type": "execute_result"
    }
   ],
   "source": [
    "df.isnull().sum().sum()"
   ]
  },
  {
   "cell_type": "markdown",
   "metadata": {},
   "source": [
    "There are no missing values in this dataset"
   ]
  },
  {
   "cell_type": "code",
   "execution_count": 367,
   "metadata": {},
   "outputs": [
    {
     "data": {
      "text/plain": [
       "Gender                                                                [Female, Male]\n",
       "Age                                [27, 35, 43, 28, 29, 38, 33, 37, 32, 47, 41, 4...\n",
       "Сredit_sum                         [850, 400, 2750, 15000, 2500, 2215, 54600, 200...\n",
       "Currency                                              [UAH, USD, EUR, 0,  USD,  UAH]\n",
       "Term_of_crediting_in day           [360, 240, 1800, 1080, 90, 2520, 60, 720, 1080...\n",
       "Interest rate_%                    [18, 12, 14, 15, 20, 19, 22, 26, 16, 17, 23, 1...\n",
       "Duration_of_stay_in_a_sity          [24_60, 60_120, 120_9999, 12_24, 6_12, 3_6, 0_3]\n",
       "Maritial_status                           [SINGLE, MARRIED, DIVORCED, CIVILMARRIAGE]\n",
       "Children                                                            [c0, c1, c2, c3]\n",
       "Job_position                                                    [PE, AS, TM, SP, MM]\n",
       "Tenure_with_current_employer       [24_60, 12_18, 0_3, 60_120, 120_9999, 3_6, 18_...\n",
       "Term_of_existence_of_enterprise               [24_60, 12_24, 0_12, 120_9999, 60_120]\n",
       "Company_type                       [FS, FMG, OT, WB, EC, HI, MPP, ASTL, EOG, ITT,...\n",
       "Number_of_employees_in_kompany                  [100_9999, 51_100, 31_50, 0_5, 6_15]\n",
       "Income_customer                    [674, 690, 1588, 4869, 637, 745, 3648, 960, 80...\n",
       "Costs_customer                     [362, 342, 767, 800, 382, 355, 730, 3528, 365,...\n",
       "goal_credit                        [consumer_credit, flat, house, overhaul, auto,...\n",
       "Result                                                                   [good, bad]\n",
       "dtype: object"
      ]
     },
     "execution_count": 367,
     "metadata": {},
     "output_type": "execute_result"
    }
   ],
   "source": [
    "df.apply(lambda x: x.unique())"
   ]
  },
  {
   "cell_type": "code",
   "execution_count": 368,
   "metadata": {},
   "outputs": [],
   "source": [
    "df.columns = df.columns.str.strip()\n",
    "\n",
    "df.rename(columns={'Term_of_crediting_in day': 'Term_of_crediting_in_days',\n",
    "                   'Interest rate_%': 'Interest_rate_%',\n",
    "                   'Duration_of_stay_in_a_sity': 'Duration_of_stay_in_a_city',\n",
    "                   'Number_of_employees_in_kompany': 'Number_of_employees_in_company',\n",
    "                   'goal_credit': 'Goal_credit'}, inplace=True)\n"
   ]
  },
  {
   "cell_type": "code",
   "execution_count": 369,
   "metadata": {},
   "outputs": [
    {
     "data": {
      "text/plain": [
       "Gender                                                                [Female, Male]\n",
       "Age                                [27, 35, 43, 28, 29, 38, 33, 37, 32, 47, 41, 4...\n",
       "Сredit_sum                         [850, 400, 2750, 15000, 2500, 2215, 54600, 200...\n",
       "Currency                                              [UAH, USD, EUR, 0,  USD,  UAH]\n",
       "Term_of_crediting_in_days          [360, 240, 1800, 1080, 90, 2520, 60, 720, 1080...\n",
       "Interest_rate_%                    [18, 12, 14, 15, 20, 19, 22, 26, 16, 17, 23, 1...\n",
       "Duration_of_stay_in_a_city          [24_60, 60_120, 120_9999, 12_24, 6_12, 3_6, 0_3]\n",
       "Maritial_status                           [SINGLE, MARRIED, DIVORCED, CIVILMARRIAGE]\n",
       "Children                                                            [c0, c1, c2, c3]\n",
       "Job_position                                                    [PE, AS, TM, SP, MM]\n",
       "Tenure_with_current_employer       [24_60, 12_18, 0_3, 60_120, 120_9999, 3_6, 18_...\n",
       "Term_of_existence_of_enterprise               [24_60, 12_24, 0_12, 120_9999, 60_120]\n",
       "Company_type                       [FS, FMG, OT, WB, EC, HI, MPP, ASTL, EOG, ITT,...\n",
       "Number_of_employees_in_company                  [100_9999, 51_100, 31_50, 0_5, 6_15]\n",
       "Income_customer                    [674, 690, 1588, 4869, 637, 745, 3648, 960, 80...\n",
       "Costs_customer                     [362, 342, 767, 800, 382, 355, 730, 3528, 365,...\n",
       "Goal_credit                        [consumer_credit, flat, house, overhaul, auto,...\n",
       "Result                                                                   [good, bad]\n",
       "dtype: object"
      ]
     },
     "execution_count": 369,
     "metadata": {},
     "output_type": "execute_result"
    }
   ],
   "source": [
    "df.apply(lambda x: x.unique())"
   ]
  },
  {
   "cell_type": "code",
   "execution_count": 370,
   "metadata": {},
   "outputs": [
    {
     "name": "stderr",
     "output_type": "stream",
     "text": [
      "/var/folders/vg/lfx3769n7_560g_6160v_23m0000gn/T/ipykernel_2060/4275293213.py:1: FutureWarning: A value is trying to be set on a copy of a DataFrame or Series through chained assignment using an inplace method.\n",
      "The behavior will change in pandas 3.0. This inplace method will never work because the intermediate object on which we are setting values always behaves as a copy.\n",
      "\n",
      "For example, when doing 'df[col].method(value, inplace=True)', try using 'df.method({col: value}, inplace=True)' or df[col] = df[col].method(value) instead, to perform the operation inplace on the original object.\n",
      "\n",
      "\n",
      "  df['Currency'].replace('0', np.nan, inplace=True)\n"
     ]
    }
   ],
   "source": [
    "df['Currency'].replace('0', np.nan, inplace=True)"
   ]
  },
  {
   "cell_type": "markdown",
   "metadata": {},
   "source": [
    "We see potential columns to pay attantion to"
   ]
  },
  {
   "cell_type": "markdown",
   "metadata": {},
   "source": [
    "### Gender"
   ]
  },
  {
   "cell_type": "code",
   "execution_count": 371,
   "metadata": {},
   "outputs": [
    {
     "data": {
      "text/plain": [
       "Gender\n",
       "Male      8136\n",
       "Female    6864\n",
       "Name: count, dtype: int64"
      ]
     },
     "execution_count": 371,
     "metadata": {},
     "output_type": "execute_result"
    }
   ],
   "source": [
    "df['Gender'].value_counts()"
   ]
  },
  {
   "cell_type": "code",
   "execution_count": 372,
   "metadata": {},
   "outputs": [],
   "source": [
    "df = pd.get_dummies(df, columns=['Gender'])"
   ]
  },
  {
   "cell_type": "code",
   "execution_count": 373,
   "metadata": {},
   "outputs": [
    {
     "data": {
      "text/html": [
       "<div>\n",
       "<style scoped>\n",
       "    .dataframe tbody tr th:only-of-type {\n",
       "        vertical-align: middle;\n",
       "    }\n",
       "\n",
       "    .dataframe tbody tr th {\n",
       "        vertical-align: top;\n",
       "    }\n",
       "\n",
       "    .dataframe thead th {\n",
       "        text-align: right;\n",
       "    }\n",
       "</style>\n",
       "<table border=\"1\" class=\"dataframe\">\n",
       "  <thead>\n",
       "    <tr style=\"text-align: right;\">\n",
       "      <th></th>\n",
       "      <th>Gender_Female</th>\n",
       "      <th>Gender_Male</th>\n",
       "    </tr>\n",
       "  </thead>\n",
       "  <tbody>\n",
       "    <tr>\n",
       "      <th>0</th>\n",
       "      <td>True</td>\n",
       "      <td>False</td>\n",
       "    </tr>\n",
       "    <tr>\n",
       "      <th>1</th>\n",
       "      <td>False</td>\n",
       "      <td>True</td>\n",
       "    </tr>\n",
       "    <tr>\n",
       "      <th>2</th>\n",
       "      <td>False</td>\n",
       "      <td>True</td>\n",
       "    </tr>\n",
       "    <tr>\n",
       "      <th>3</th>\n",
       "      <td>False</td>\n",
       "      <td>True</td>\n",
       "    </tr>\n",
       "    <tr>\n",
       "      <th>4</th>\n",
       "      <td>False</td>\n",
       "      <td>True</td>\n",
       "    </tr>\n",
       "  </tbody>\n",
       "</table>\n",
       "</div>"
      ],
      "text/plain": [
       "   Gender_Female  Gender_Male\n",
       "0           True        False\n",
       "1          False         True\n",
       "2          False         True\n",
       "3          False         True\n",
       "4          False         True"
      ]
     },
     "execution_count": 373,
     "metadata": {},
     "output_type": "execute_result"
    }
   ],
   "source": [
    "df[['Gender_Female', 'Gender_Male']].head()"
   ]
  },
  {
   "cell_type": "markdown",
   "metadata": {},
   "source": [
    "### Age"
   ]
  },
  {
   "cell_type": "code",
   "execution_count": 374,
   "metadata": {},
   "outputs": [
    {
     "data": {
      "text/plain": [
       "<Axes: title={'center': 'Age Distribution'}, ylabel='Frequency'>"
      ]
     },
     "execution_count": 374,
     "metadata": {},
     "output_type": "execute_result"
    },
    {
     "data": {
      "image/png": "[encoded data removed]",
      "text/plain": [
       "<Figure size 640x480 with 1 Axes>"
      ]
     },
     "metadata": {},
     "output_type": "display_data"
    }
   ],
   "source": [
    "num_bins = len(df['Age'].unique())\n",
    "df['Age'].plot(kind='hist', bins=num_bins, title='Age Distribution')"
   ]
  },
  {
   "cell_type": "code",
   "execution_count": 375,
   "metadata": {},
   "outputs": [
    {
     "data": {
      "text/plain": [
       "count   15,000.00\n",
       "mean        40.59\n",
       "std          9.46\n",
       "min         23.00\n",
       "25%         33.00\n",
       "50%         39.00\n",
       "75%         48.00\n",
       "max         65.00\n",
       "Name: Age, dtype: float64"
      ]
     },
     "execution_count": 375,
     "metadata": {},
     "output_type": "execute_result"
    }
   ],
   "source": [
    "df['Age'].describe()"
   ]
  },
  {
   "cell_type": "markdown",
   "metadata": {},
   "source": [
    "I will return to it later to understand if i need to categorise this feature"
   ]
  },
  {
   "cell_type": "markdown",
   "metadata": {},
   "source": [
    "### Credit Sum"
   ]
  },
  {
   "cell_type": "code",
   "execution_count": 376,
   "metadata": {},
   "outputs": [
    {
     "data": {
      "text/plain": [
       "<Axes: title={'center': 'Credit Sum Distibution'}, ylabel='Frequency'>"
      ]
     },
     "execution_count": 376,
     "metadata": {},
     "output_type": "execute_result"
    },
    {
     "data": {
      "image/png": "[encoded data removed]",
      "text/plain": [
       "<Figure size 640x480 with 1 Axes>"
      ]
     },
     "metadata": {},
     "output_type": "display_data"
    }
   ],
   "source": [
    "num_bins = len(df['Сredit_sum'].unique())\n",
    "df['Сredit_sum'].plot(kind='hist', bins=num_bins, title='Credit Sum Distibution')"
   ]
  },
  {
   "cell_type": "markdown",
   "metadata": {},
   "source": [
    "Normalisation/logarythmisation?"
   ]
  },
  {
   "cell_type": "code",
   "execution_count": 377,
   "metadata": {},
   "outputs": [],
   "source": [
    "df['Currency'] = df['Currency'].str.strip()"
   ]
  },
  {
   "cell_type": "code",
   "execution_count": 378,
   "metadata": {},
   "outputs": [
    {
     "data": {
      "text/plain": [
       "array(['UAH', 'USD', 'EUR', nan], dtype=object)"
      ]
     },
     "execution_count": 378,
     "metadata": {},
     "output_type": "execute_result"
    }
   ],
   "source": [
    "df['Currency'].unique()"
   ]
  },
  {
   "cell_type": "code",
   "execution_count": 379,
   "metadata": {},
   "outputs": [
    {
     "name": "stderr",
     "output_type": "stream",
     "text": [
      "/var/folders/vg/lfx3769n7_560g_6160v_23m0000gn/T/ipykernel_2060/4275293213.py:1: FutureWarning: A value is trying to be set on a copy of a DataFrame or Series through chained assignment using an inplace method.\n",
      "The behavior will change in pandas 3.0. This inplace method will never work because the intermediate object on which we are setting values always behaves as a copy.\n",
      "\n",
      "For example, when doing 'df[col].method(value, inplace=True)', try using 'df.method({col: value}, inplace=True)' or df[col] = df[col].method(value) instead, to perform the operation inplace on the original object.\n",
      "\n",
      "\n",
      "  df['Currency'].replace('0', np.nan, inplace=True)\n"
     ]
    }
   ],
   "source": [
    "df['Currency'].replace('0', np.nan, inplace=True)"
   ]
  },
  {
   "cell_type": "code",
   "execution_count": 380,
   "metadata": {},
   "outputs": [
    {
     "name": "stdout",
     "output_type": "stream",
     "text": [
      "['UAH' 'USD' 'EUR' nan]\n"
     ]
    }
   ],
   "source": [
    "print(df['Currency'].unique())"
   ]
  },
  {
   "cell_type": "code",
   "execution_count": 381,
   "metadata": {},
   "outputs": [
    {
     "data": {
      "text/html": [
       "<div>\n",
       "<style scoped>\n",
       "    .dataframe tbody tr th:only-of-type {\n",
       "        vertical-align: middle;\n",
       "    }\n",
       "\n",
       "    .dataframe tbody tr th {\n",
       "        vertical-align: top;\n",
       "    }\n",
       "\n",
       "    .dataframe thead th {\n",
       "        text-align: right;\n",
       "    }\n",
       "</style>\n",
       "<table border=\"1\" class=\"dataframe\">\n",
       "  <thead>\n",
       "    <tr style=\"text-align: right;\">\n",
       "      <th></th>\n",
       "      <th>Age</th>\n",
       "      <th>Сredit_sum</th>\n",
       "      <th>Currency</th>\n",
       "      <th>Term_of_crediting_in_days</th>\n",
       "      <th>Interest_rate_%</th>\n",
       "      <th>Duration_of_stay_in_a_city</th>\n",
       "      <th>Maritial_status</th>\n",
       "      <th>Children</th>\n",
       "      <th>Job_position</th>\n",
       "      <th>Tenure_with_current_employer</th>\n",
       "      <th>Term_of_existence_of_enterprise</th>\n",
       "      <th>Company_type</th>\n",
       "      <th>Number_of_employees_in_company</th>\n",
       "      <th>Income_customer</th>\n",
       "      <th>Costs_customer</th>\n",
       "      <th>Goal_credit</th>\n",
       "      <th>Result</th>\n",
       "      <th>Gender_Female</th>\n",
       "      <th>Gender_Male</th>\n",
       "    </tr>\n",
       "  </thead>\n",
       "  <tbody>\n",
       "    <tr>\n",
       "      <th>5251</th>\n",
       "      <td>44</td>\n",
       "      <td>2619</td>\n",
       "      <td>NaN</td>\n",
       "      <td>360</td>\n",
       "      <td>28</td>\n",
       "      <td>120_9999</td>\n",
       "      <td>MARRIED</td>\n",
       "      <td>c2</td>\n",
       "      <td>AS</td>\n",
       "      <td>120_9999</td>\n",
       "      <td>120_9999</td>\n",
       "      <td>OT</td>\n",
       "      <td>100_9999</td>\n",
       "      <td>1138</td>\n",
       "      <td>155</td>\n",
       "      <td>consumer_credit</td>\n",
       "      <td>good</td>\n",
       "      <td>True</td>\n",
       "      <td>False</td>\n",
       "    </tr>\n",
       "    <tr>\n",
       "      <th>14249</th>\n",
       "      <td>40</td>\n",
       "      <td>96000</td>\n",
       "      <td>NaN</td>\n",
       "      <td>5400</td>\n",
       "      <td>13</td>\n",
       "      <td>6_12</td>\n",
       "      <td>MARRIED</td>\n",
       "      <td>c1</td>\n",
       "      <td>AS</td>\n",
       "      <td>24_60</td>\n",
       "      <td>24_60</td>\n",
       "      <td>WB</td>\n",
       "      <td>0_5</td>\n",
       "      <td>8397</td>\n",
       "      <td>0</td>\n",
       "      <td>flat</td>\n",
       "      <td>good</td>\n",
       "      <td>True</td>\n",
       "      <td>False</td>\n",
       "    </tr>\n",
       "  </tbody>\n",
       "</table>\n",
       "</div>"
      ],
      "text/plain": [
       "       Age  Сredit_sum Currency  Term_of_crediting_in_days  Interest_rate_%  \\\n",
       "5251    44        2619      NaN                        360               28   \n",
       "14249   40       96000      NaN                       5400               13   \n",
       "\n",
       "      Duration_of_stay_in_a_city Maritial_status Children Job_position  \\\n",
       "5251                    120_9999         MARRIED       c2           AS   \n",
       "14249                       6_12         MARRIED       c1           AS   \n",
       "\n",
       "      Tenure_with_current_employer Term_of_existence_of_enterprise  \\\n",
       "5251                      120_9999                        120_9999   \n",
       "14249                        24_60                           24_60   \n",
       "\n",
       "      Company_type Number_of_employees_in_company  Income_customer  \\\n",
       "5251            OT                       100_9999             1138   \n",
       "14249           WB                            0_5             8397   \n",
       "\n",
       "       Costs_customer      Goal_credit Result  Gender_Female  Gender_Male  \n",
       "5251              155  consumer_credit   good           True        False  \n",
       "14249               0             flat   good           True        False  "
      ]
     },
     "execution_count": 381,
     "metadata": {},
     "output_type": "execute_result"
    }
   ],
   "source": [
    "df.loc[df['Currency'].isnull()]"
   ]
  },
  {
   "cell_type": "code",
   "execution_count": 382,
   "metadata": {},
   "outputs": [],
   "source": [
    "df.dropna(subset=['Currency'], inplace=True)"
   ]
  },
  {
   "cell_type": "code",
   "execution_count": 383,
   "metadata": {},
   "outputs": [
    {
     "data": {
      "text/plain": [
       "array(['UAH', 'USD', 'EUR'], dtype=object)"
      ]
     },
     "execution_count": 383,
     "metadata": {},
     "output_type": "execute_result"
    }
   ],
   "source": [
    "df['Currency'].unique()"
   ]
  },
  {
   "cell_type": "code",
   "execution_count": 384,
   "metadata": {},
   "outputs": [
    {
     "data": {
      "text/html": [
       "<div>\n",
       "<style scoped>\n",
       "    .dataframe tbody tr th:only-of-type {\n",
       "        vertical-align: middle;\n",
       "    }\n",
       "\n",
       "    .dataframe tbody tr th {\n",
       "        vertical-align: top;\n",
       "    }\n",
       "\n",
       "    .dataframe thead th {\n",
       "        text-align: right;\n",
       "    }\n",
       "</style>\n",
       "<table border=\"1\" class=\"dataframe\">\n",
       "  <thead>\n",
       "    <tr style=\"text-align: right;\">\n",
       "      <th></th>\n",
       "      <th>Currency</th>\n",
       "      <th>Location</th>\n",
       "    </tr>\n",
       "  </thead>\n",
       "  <tbody>\n",
       "    <tr>\n",
       "      <th>0</th>\n",
       "      <td>UAH</td>\n",
       "      <td>UA</td>\n",
       "    </tr>\n",
       "    <tr>\n",
       "      <th>1</th>\n",
       "      <td>USD</td>\n",
       "      <td>USA</td>\n",
       "    </tr>\n",
       "    <tr>\n",
       "      <th>2</th>\n",
       "      <td>UAH</td>\n",
       "      <td>UA</td>\n",
       "    </tr>\n",
       "    <tr>\n",
       "      <th>3</th>\n",
       "      <td>USD</td>\n",
       "      <td>USA</td>\n",
       "    </tr>\n",
       "    <tr>\n",
       "      <th>4</th>\n",
       "      <td>UAH</td>\n",
       "      <td>UA</td>\n",
       "    </tr>\n",
       "  </tbody>\n",
       "</table>\n",
       "</div>"
      ],
      "text/plain": [
       "  Currency Location\n",
       "0      UAH       UA\n",
       "1      USD      USA\n",
       "2      UAH       UA\n",
       "3      USD      USA\n",
       "4      UAH       UA"
      ]
     },
     "execution_count": 384,
     "metadata": {},
     "output_type": "execute_result"
    }
   ],
   "source": [
    "df['Location'] = df['Currency'].map({'USD': 'USA', 'UAH': 'UA', 'EUR': 'EU'})\n",
    "\n",
    "df[['Currency', 'Location']].head()"
   ]
  },
  {
   "cell_type": "code",
   "execution_count": 385,
   "metadata": {},
   "outputs": [
    {
     "data": {
      "text/html": [
       "<div>\n",
       "<style scoped>\n",
       "    .dataframe tbody tr th:only-of-type {\n",
       "        vertical-align: middle;\n",
       "    }\n",
       "\n",
       "    .dataframe tbody tr th {\n",
       "        vertical-align: top;\n",
       "    }\n",
       "\n",
       "    .dataframe thead th {\n",
       "        text-align: right;\n",
       "    }\n",
       "</style>\n",
       "<table border=\"1\" class=\"dataframe\">\n",
       "  <thead>\n",
       "    <tr style=\"text-align: right;\">\n",
       "      <th></th>\n",
       "      <th>Сredit_sum</th>\n",
       "      <th>Income_customer</th>\n",
       "      <th>Costs_customer</th>\n",
       "      <th>Currency</th>\n",
       "      <th>Credit_sum_in_UAH</th>\n",
       "      <th>Income_in_UAH</th>\n",
       "      <th>Costs_in_UAH</th>\n",
       "    </tr>\n",
       "  </thead>\n",
       "  <tbody>\n",
       "    <tr>\n",
       "      <th>0</th>\n",
       "      <td>850</td>\n",
       "      <td>674</td>\n",
       "      <td>362</td>\n",
       "      <td>UAH</td>\n",
       "      <td>850</td>\n",
       "      <td>674</td>\n",
       "      <td>362</td>\n",
       "    </tr>\n",
       "    <tr>\n",
       "      <th>1</th>\n",
       "      <td>400</td>\n",
       "      <td>690</td>\n",
       "      <td>342</td>\n",
       "      <td>USD</td>\n",
       "      <td>16400</td>\n",
       "      <td>28290</td>\n",
       "      <td>14022</td>\n",
       "    </tr>\n",
       "    <tr>\n",
       "      <th>2</th>\n",
       "      <td>2750</td>\n",
       "      <td>1588</td>\n",
       "      <td>767</td>\n",
       "      <td>UAH</td>\n",
       "      <td>2750</td>\n",
       "      <td>1588</td>\n",
       "      <td>767</td>\n",
       "    </tr>\n",
       "    <tr>\n",
       "      <th>3</th>\n",
       "      <td>15000</td>\n",
       "      <td>4869</td>\n",
       "      <td>800</td>\n",
       "      <td>USD</td>\n",
       "      <td>615000</td>\n",
       "      <td>199629</td>\n",
       "      <td>32800</td>\n",
       "    </tr>\n",
       "    <tr>\n",
       "      <th>4</th>\n",
       "      <td>2500</td>\n",
       "      <td>637</td>\n",
       "      <td>382</td>\n",
       "      <td>UAH</td>\n",
       "      <td>2500</td>\n",
       "      <td>637</td>\n",
       "      <td>382</td>\n",
       "    </tr>\n",
       "  </tbody>\n",
       "</table>\n",
       "</div>"
      ],
      "text/plain": [
       "   Сredit_sum  Income_customer  Costs_customer Currency  Credit_sum_in_UAH  \\\n",
       "0         850              674             362      UAH                850   \n",
       "1         400              690             342      USD              16400   \n",
       "2        2750             1588             767      UAH               2750   \n",
       "3       15000             4869             800      USD             615000   \n",
       "4        2500              637             382      UAH               2500   \n",
       "\n",
       "   Income_in_UAH  Costs_in_UAH  \n",
       "0            674           362  \n",
       "1          28290         14022  \n",
       "2           1588           767  \n",
       "3         199629         32800  \n",
       "4            637           382  "
      ]
     },
     "execution_count": 385,
     "metadata": {},
     "output_type": "execute_result"
    }
   ],
   "source": [
    "exchange_rates = {\n",
    "    'UAH': 1,   \n",
    "    'USD': 41,  \n",
    "    'EUR': 46   \n",
    "}\n",
    "\n",
    "df['Credit_sum_in_UAH'] = df['Сredit_sum'] * df['Currency'].map(exchange_rates)\n",
    "df['Income_in_UAH'] = df['Income_customer'] * df['Currency'].map(exchange_rates)\n",
    "df['Costs_in_UAH'] = df['Costs_customer'] * df['Currency'].map(exchange_rates)\n",
    "\n",
    "df[['Сredit_sum', 'Income_customer', 'Costs_customer', 'Currency', 'Credit_sum_in_UAH', 'Income_in_UAH', 'Costs_in_UAH']].head()"
   ]
  },
  {
   "cell_type": "code",
   "execution_count": 386,
   "metadata": {},
   "outputs": [],
   "source": [
    "df.drop(columns=['Сredit_sum', 'Income_customer', 'Costs_customer', 'Currency'], inplace=True)"
   ]
  },
  {
   "cell_type": "code",
   "execution_count": 387,
   "metadata": {},
   "outputs": [
    {
     "data": {
      "text/plain": [
       "Age                                [27, 35, 43, 28, 29, 38, 33, 37, 32, 47, 41, 4...\n",
       "Term_of_crediting_in_days          [360, 240, 1800, 1080, 90, 2520, 60, 720, 1080...\n",
       "Interest_rate_%                    [18, 12, 14, 15, 20, 19, 22, 26, 16, 17, 23, 1...\n",
       "Duration_of_stay_in_a_city          [24_60, 60_120, 120_9999, 12_24, 6_12, 3_6, 0_3]\n",
       "Maritial_status                           [SINGLE, MARRIED, DIVORCED, CIVILMARRIAGE]\n",
       "Children                                                            [c0, c1, c2, c3]\n",
       "Job_position                                                    [PE, AS, TM, SP, MM]\n",
       "Tenure_with_current_employer       [24_60, 12_18, 0_3, 60_120, 120_9999, 3_6, 18_...\n",
       "Term_of_existence_of_enterprise               [24_60, 12_24, 0_12, 120_9999, 60_120]\n",
       "Company_type                       [FS, FMG, OT, WB, EC, HI, MPP, ASTL, EOG, ITT,...\n",
       "Number_of_employees_in_company                  [100_9999, 51_100, 31_50, 0_5, 6_15]\n",
       "Goal_credit                        [consumer_credit, flat, house, overhaul, auto,...\n",
       "Result                                                                   [good, bad]\n",
       "Gender_Female                                                          [True, False]\n",
       "Gender_Male                                                            [False, True]\n",
       "Location                                                               [UA, USA, EU]\n",
       "Credit_sum_in_UAH                  [850, 16400, 2750, 615000, 2500, 2215, 54600, ...\n",
       "Income_in_UAH                      [674, 28290, 1588, 199629, 637, 745, 3648, 393...\n",
       "Costs_in_UAH                       [362, 14022, 767, 32800, 382, 355, 730, 15662,...\n",
       "dtype: object"
      ]
     },
     "execution_count": 387,
     "metadata": {},
     "output_type": "execute_result"
    }
   ],
   "source": [
    "df.apply(lambda x: x.unique())"
   ]
  },
  {
   "cell_type": "markdown",
   "metadata": {},
   "source": [
    "### Term of crediting in day\n",
    "as the interest rate is in year percentage, I think it would be better to convert days in years "
   ]
  },
  {
   "cell_type": "code",
   "execution_count": 388,
   "metadata": {},
   "outputs": [
    {
     "data": {
      "text/plain": [
       "(30, 109685055)"
      ]
     },
     "execution_count": 388,
     "metadata": {},
     "output_type": "execute_result"
    }
   ],
   "source": [
    "df['Term_of_crediting_in_days'].min(), df['Term_of_crediting_in_days'].max()"
   ]
  },
  {
   "cell_type": "code",
   "execution_count": 389,
   "metadata": {},
   "outputs": [
    {
     "data": {
      "text/html": [
       "<div>\n",
       "<style scoped>\n",
       "    .dataframe tbody tr th:only-of-type {\n",
       "        vertical-align: middle;\n",
       "    }\n",
       "\n",
       "    .dataframe tbody tr th {\n",
       "        vertical-align: top;\n",
       "    }\n",
       "\n",
       "    .dataframe thead th {\n",
       "        text-align: right;\n",
       "    }\n",
       "</style>\n",
       "<table border=\"1\" class=\"dataframe\">\n",
       "  <thead>\n",
       "    <tr style=\"text-align: right;\">\n",
       "      <th></th>\n",
       "      <th>Term_of_crediting_in_days</th>\n",
       "    </tr>\n",
       "  </thead>\n",
       "  <tbody>\n",
       "    <tr>\n",
       "      <th>count</th>\n",
       "      <td>14,986.00</td>\n",
       "    </tr>\n",
       "    <tr>\n",
       "      <th>mean</th>\n",
       "      <td>2,015.65</td>\n",
       "    </tr>\n",
       "    <tr>\n",
       "      <th>std</th>\n",
       "      <td>1,627.77</td>\n",
       "    </tr>\n",
       "    <tr>\n",
       "      <th>min</th>\n",
       "      <td>30.00</td>\n",
       "    </tr>\n",
       "    <tr>\n",
       "      <th>25%</th>\n",
       "      <td>720.00</td>\n",
       "    </tr>\n",
       "    <tr>\n",
       "      <th>50%</th>\n",
       "      <td>1,800.00</td>\n",
       "    </tr>\n",
       "    <tr>\n",
       "      <th>75%</th>\n",
       "      <td>2,520.00</td>\n",
       "    </tr>\n",
       "    <tr>\n",
       "      <th>max</th>\n",
       "      <td>10,800.00</td>\n",
       "    </tr>\n",
       "  </tbody>\n",
       "</table>\n",
       "</div>"
      ],
      "text/plain": [
       "       Term_of_crediting_in_days\n",
       "count                  14,986.00\n",
       "mean                    2,015.65\n",
       "std                     1,627.77\n",
       "min                        30.00\n",
       "25%                       720.00\n",
       "50%                     1,800.00\n",
       "75%                     2,520.00\n",
       "max                    10,800.00"
      ]
     },
     "execution_count": 389,
     "metadata": {},
     "output_type": "execute_result"
    }
   ],
   "source": [
    "# Filter the dataset to remove loans with a term longer than 30 years\n",
    "df = df[df['Term_of_crediting_in_days'] <= 10980]\n",
    "\n",
    "# Check the filtered data\n",
    "df[['Term_of_crediting_in_days']].describe()"
   ]
  },
  {
   "cell_type": "code",
   "execution_count": 390,
   "metadata": {},
   "outputs": [
    {
     "data": {
      "text/plain": [
       "array([  360,   240,  1800,  1080,    90,  2520,    60,   720, 10800,\n",
       "        2555,  3600,  1825,  1095,   180,  2490,  1020,  1440,  5400,\n",
       "        5475,  1770,   540,   365,  3650,  1620,  2700,   210,   730,\n",
       "         630,    30,  1350,   270,  1050,  1740,  5040,   690,  1560,\n",
       "         150,   300,  2430,   120,   330,  2100,   990,  3240,  3540,\n",
       "         810,  4320,  3420,  1380,  2160,  5370,   750,   660,  7200,\n",
       "        1410,   480,  1530,  1460,  2250,  1470,  2880,   780,  7300,\n",
       "        3300,  2940,   450,  2070,  4380,  2190,  3285,  4950,   420,\n",
       "        2310,  2400,  2820,  4680,  3090,  3000,  2340,  5250,  5670,\n",
       "        4015,  2370,  4920,  2040,  2760,  4860,  2220,  1710,  4710,\n",
       "        4440,  1650,  1200,  2280,  6120,   390,  3480,  1590,  3570,\n",
       "        4110,   570,  4470,  4140,  4500,   960,  3150,  3960,   840,\n",
       "        5100,  2130,  5280,  4170,  1680,  1290,   510,  3510,  3060,\n",
       "        5340,  3330,  4745,  3120,  1230,  1500,  1950,   930,  3630,\n",
       "        2460,   900,  4200,  4260,  2610])"
      ]
     },
     "execution_count": 390,
     "metadata": {},
     "output_type": "execute_result"
    }
   ],
   "source": [
    "df['Term_of_crediting_in_days'].unique()"
   ]
  },
  {
   "cell_type": "code",
   "execution_count": 391,
   "metadata": {},
   "outputs": [
    {
     "data": {
      "image/png": "[encoded data removed]",
      "text/plain": [
       "<Figure size 640x480 with 1 Axes>"
      ]
     },
     "metadata": {},
     "output_type": "display_data"
    }
   ],
   "source": [
    "num_bins = len(df['Term_of_crediting_in_days'].unique())\n",
    "plt.hist(df['Term_of_crediting_in_days'], bins=num_bins)\n",
    "\n",
    "plt.title('Term_of_credit in days distribution')\n",
    "plt.xlabel('Term (days)')\n",
    "plt.ylabel('Frequency')\n",
    "plt.show()"
   ]
  },
  {
   "cell_type": "code",
   "execution_count": 392,
   "metadata": {},
   "outputs": [
    {
     "data": {
      "text/html": [
       "<div>\n",
       "<style scoped>\n",
       "    .dataframe tbody tr th:only-of-type {\n",
       "        vertical-align: middle;\n",
       "    }\n",
       "\n",
       "    .dataframe tbody tr th {\n",
       "        vertical-align: top;\n",
       "    }\n",
       "\n",
       "    .dataframe thead th {\n",
       "        text-align: right;\n",
       "    }\n",
       "</style>\n",
       "<table border=\"1\" class=\"dataframe\">\n",
       "  <thead>\n",
       "    <tr style=\"text-align: right;\">\n",
       "      <th></th>\n",
       "      <th>Term_of_crediting_in_years</th>\n",
       "    </tr>\n",
       "  </thead>\n",
       "  <tbody>\n",
       "    <tr>\n",
       "      <th>0</th>\n",
       "      <td>0.99</td>\n",
       "    </tr>\n",
       "    <tr>\n",
       "      <th>1</th>\n",
       "      <td>0.66</td>\n",
       "    </tr>\n",
       "    <tr>\n",
       "      <th>2</th>\n",
       "      <td>0.66</td>\n",
       "    </tr>\n",
       "    <tr>\n",
       "      <th>3</th>\n",
       "      <td>4.93</td>\n",
       "    </tr>\n",
       "    <tr>\n",
       "      <th>4</th>\n",
       "      <td>2.96</td>\n",
       "    </tr>\n",
       "  </tbody>\n",
       "</table>\n",
       "</div>"
      ],
      "text/plain": [
       "   Term_of_crediting_in_years\n",
       "0                        0.99\n",
       "1                        0.66\n",
       "2                        0.66\n",
       "3                        4.93\n",
       "4                        2.96"
      ]
     },
     "execution_count": 392,
     "metadata": {},
     "output_type": "execute_result"
    }
   ],
   "source": [
    "df['Term_of_crediting_in_years'] = df['Term_of_crediting_in_days']/365\n",
    "df.drop(columns=['Term_of_crediting_in_days'], inplace=True)\n",
    "\n",
    "df[['Term_of_crediting_in_years']].head()"
   ]
  },
  {
   "cell_type": "code",
   "execution_count": 393,
   "metadata": {},
   "outputs": [
    {
     "data": {
      "text/plain": [
       "(0.0821917808219178, 29.589041095890412)"
      ]
     },
     "execution_count": 393,
     "metadata": {},
     "output_type": "execute_result"
    }
   ],
   "source": [
    "df['Term_of_crediting_in_years'].min(), df['Term_of_crediting_in_years'].max()"
   ]
  },
  {
   "cell_type": "code",
   "execution_count": 394,
   "metadata": {},
   "outputs": [
    {
     "data": {
      "image/png": "[encoded data removed]",
      "text/plain": [
       "<Figure size 640x480 with 1 Axes>"
      ]
     },
     "metadata": {},
     "output_type": "display_data"
    }
   ],
   "source": [
    "num_bins = len(df['Term_of_crediting_in_years'].unique())\n",
    "plt.hist(df['Term_of_crediting_in_years'], bins=num_bins)\n",
    "\n",
    "plt.xlim(0, 30)\n",
    "\n",
    "plt.title('Term_of_credit in years distribution')\n",
    "plt.xlabel('Term (years)')\n",
    "plt.ylabel('Frequency')\n",
    "plt.show()"
   ]
  },
  {
   "cell_type": "code",
   "execution_count": 395,
   "metadata": {},
   "outputs": [
    {
     "data": {
      "text/html": [
       "<div>\n",
       "<style scoped>\n",
       "    .dataframe tbody tr th:only-of-type {\n",
       "        vertical-align: middle;\n",
       "    }\n",
       "\n",
       "    .dataframe tbody tr th {\n",
       "        vertical-align: top;\n",
       "    }\n",
       "\n",
       "    .dataframe thead th {\n",
       "        text-align: right;\n",
       "    }\n",
       "</style>\n",
       "<table border=\"1\" class=\"dataframe\">\n",
       "  <thead>\n",
       "    <tr style=\"text-align: right;\">\n",
       "      <th></th>\n",
       "      <th>Credit_sum_in_UAH</th>\n",
       "      <th>Interest_rate_%</th>\n",
       "      <th>Term_of_crediting_in_years</th>\n",
       "      <th>Total_repayment</th>\n",
       "    </tr>\n",
       "  </thead>\n",
       "  <tbody>\n",
       "    <tr>\n",
       "      <th>0</th>\n",
       "      <td>850</td>\n",
       "      <td>18</td>\n",
       "      <td>0.99</td>\n",
       "      <td>1,000.90</td>\n",
       "    </tr>\n",
       "    <tr>\n",
       "      <th>1</th>\n",
       "      <td>16400</td>\n",
       "      <td>12</td>\n",
       "      <td>0.66</td>\n",
       "      <td>17,694.03</td>\n",
       "    </tr>\n",
       "    <tr>\n",
       "      <th>2</th>\n",
       "      <td>2750</td>\n",
       "      <td>14</td>\n",
       "      <td>0.66</td>\n",
       "      <td>3,003.15</td>\n",
       "    </tr>\n",
       "    <tr>\n",
       "      <th>3</th>\n",
       "      <td>615000</td>\n",
       "      <td>15</td>\n",
       "      <td>4.93</td>\n",
       "      <td>1,069,931.51</td>\n",
       "    </tr>\n",
       "    <tr>\n",
       "      <th>4</th>\n",
       "      <td>2500</td>\n",
       "      <td>18</td>\n",
       "      <td>2.96</td>\n",
       "      <td>3,831.51</td>\n",
       "    </tr>\n",
       "  </tbody>\n",
       "</table>\n",
       "</div>"
      ],
      "text/plain": [
       "   Credit_sum_in_UAH  Interest_rate_%  Term_of_crediting_in_years  \\\n",
       "0                850               18                        0.99   \n",
       "1              16400               12                        0.66   \n",
       "2               2750               14                        0.66   \n",
       "3             615000               15                        4.93   \n",
       "4               2500               18                        2.96   \n",
       "\n",
       "   Total_repayment  \n",
       "0         1,000.90  \n",
       "1        17,694.03  \n",
       "2         3,003.15  \n",
       "3     1,069,931.51  \n",
       "4         3,831.51  "
      ]
     },
     "execution_count": 395,
     "metadata": {},
     "output_type": "execute_result"
    }
   ],
   "source": [
    "df['Total_repayment'] = df['Credit_sum_in_UAH'] * (1 + (df['Interest_rate_%'] / 100) * df['Term_of_crediting_in_years'])\n",
    "pd.options.display.float_format = '{:,.2f}'.format\n",
    "df[['Credit_sum_in_UAH', 'Interest_rate_%', 'Term_of_crediting_in_years', 'Total_repayment']].head()"
   ]
  },
  {
   "cell_type": "code",
   "execution_count": 396,
   "metadata": {},
   "outputs": [
    {
     "data": {
      "text/html": [
       "<div>\n",
       "<style scoped>\n",
       "    .dataframe tbody tr th:only-of-type {\n",
       "        vertical-align: middle;\n",
       "    }\n",
       "\n",
       "    .dataframe tbody tr th {\n",
       "        vertical-align: top;\n",
       "    }\n",
       "\n",
       "    .dataframe thead th {\n",
       "        text-align: right;\n",
       "    }\n",
       "</style>\n",
       "<table border=\"1\" class=\"dataframe\">\n",
       "  <thead>\n",
       "    <tr style=\"text-align: right;\">\n",
       "      <th></th>\n",
       "      <th>Term_of_crediting_in_years</th>\n",
       "      <th>Loan_Term_Category</th>\n",
       "    </tr>\n",
       "  </thead>\n",
       "  <tbody>\n",
       "    <tr>\n",
       "      <th>0</th>\n",
       "      <td>0.99</td>\n",
       "      <td>Short-Term</td>\n",
       "    </tr>\n",
       "    <tr>\n",
       "      <th>1</th>\n",
       "      <td>0.66</td>\n",
       "      <td>Short-Term</td>\n",
       "    </tr>\n",
       "    <tr>\n",
       "      <th>2</th>\n",
       "      <td>0.66</td>\n",
       "      <td>Short-Term</td>\n",
       "    </tr>\n",
       "    <tr>\n",
       "      <th>3</th>\n",
       "      <td>4.93</td>\n",
       "      <td>Medium-Term</td>\n",
       "    </tr>\n",
       "    <tr>\n",
       "      <th>4</th>\n",
       "      <td>2.96</td>\n",
       "      <td>Medium-Term</td>\n",
       "    </tr>\n",
       "  </tbody>\n",
       "</table>\n",
       "</div>"
      ],
      "text/plain": [
       "   Term_of_crediting_in_years Loan_Term_Category\n",
       "0                        0.99         Short-Term\n",
       "1                        0.66         Short-Term\n",
       "2                        0.66         Short-Term\n",
       "3                        4.93        Medium-Term\n",
       "4                        2.96        Medium-Term"
      ]
     },
     "execution_count": 396,
     "metadata": {},
     "output_type": "execute_result"
    }
   ],
   "source": [
    "bins = [0, 1, 5, 30]\n",
    "labels = ['Short-Term', 'Medium-Term', 'Long-Term']  \n",
    "df['Loan_Term_Category'] = pd.cut(df['Term_of_crediting_in_years'], bins=bins, labels=labels, right=False)\n",
    "df[['Term_of_crediting_in_years', 'Loan_Term_Category']].head()\n"
   ]
  },
  {
   "cell_type": "code",
   "execution_count": 397,
   "metadata": {},
   "outputs": [
    {
     "data": {
      "image/png": "[encoded data removed]",
      "text/plain": [
       "<Figure size 800x600 with 1 Axes>"
      ]
     },
     "metadata": {},
     "output_type": "display_data"
    }
   ],
   "source": [
    "category_counts = df['Loan_Term_Category'].value_counts()\n",
    "\n",
    "plt.figure(figsize=(8, 6))\n",
    "category_counts.plot(kind='bar', color='skyblue')\n",
    "\n",
    "plt.title('Frequency of Loan Term Categories')\n",
    "plt.xlabel('Loan Term Category')\n",
    "plt.ylabel('Frequency')\n",
    "plt.show()"
   ]
  },
  {
   "cell_type": "code",
   "execution_count": 398,
   "metadata": {},
   "outputs": [
    {
     "data": {
      "text/plain": [
       "(0, 30)"
      ]
     },
     "execution_count": 398,
     "metadata": {},
     "output_type": "execute_result"
    }
   ],
   "source": [
    "df['Interest_rate_%'].min(), df['Interest_rate_%'].max()"
   ]
  },
  {
   "cell_type": "code",
   "execution_count": 399,
   "metadata": {},
   "outputs": [
    {
     "data": {
      "image/png": "[encoded data removed]",
      "text/plain": [
       "<Figure size 640x480 with 1 Axes>"
      ]
     },
     "metadata": {},
     "output_type": "display_data"
    }
   ],
   "source": [
    "num_bins = len(df['Interest_rate_%'].unique())\n",
    "\n",
    "df['Interest_rate_%'].plot(kind='hist', bins=num_bins, title='Interest rate in % distribution')\n",
    "plt.xlabel('Interest rate (%)')\n",
    "plt.ylabel('Frequency')\n",
    "plt.show()"
   ]
  },
  {
   "cell_type": "code",
   "execution_count": 400,
   "metadata": {},
   "outputs": [
    {
     "data": {
      "text/plain": [
       "Age                                [27, 35, 43, 28, 29, 38, 33, 37, 32, 47, 41, 4...\n",
       "Interest_rate_%                    [18, 12, 14, 15, 20, 19, 22, 26, 16, 17, 23, 1...\n",
       "Duration_of_stay_in_a_city          [24_60, 60_120, 120_9999, 12_24, 6_12, 3_6, 0_3]\n",
       "Maritial_status                           [SINGLE, MARRIED, DIVORCED, CIVILMARRIAGE]\n",
       "Children                                                            [c0, c1, c2, c3]\n",
       "Job_position                                                    [PE, AS, TM, SP, MM]\n",
       "Tenure_with_current_employer       [24_60, 12_18, 0_3, 60_120, 120_9999, 3_6, 18_...\n",
       "Term_of_existence_of_enterprise               [24_60, 12_24, 0_12, 120_9999, 60_120]\n",
       "Company_type                       [FS, FMG, OT, WB, EC, HI, MPP, ASTL, EOG, ITT,...\n",
       "Number_of_employees_in_company                  [100_9999, 51_100, 31_50, 0_5, 6_15]\n",
       "Goal_credit                        [consumer_credit, flat, house, overhaul, auto,...\n",
       "Result                                                                   [good, bad]\n",
       "Gender_Female                                                          [True, False]\n",
       "Gender_Male                                                            [False, True]\n",
       "Location                                                               [UA, USA, EU]\n",
       "Credit_sum_in_UAH                  [850, 16400, 2750, 615000, 2500, 2215, 54600, ...\n",
       "Income_in_UAH                      [674, 28290, 1588, 199629, 637, 745, 3648, 393...\n",
       "Costs_in_UAH                       [362, 14022, 767, 32800, 382, 355, 730, 15662,...\n",
       "Term_of_crediting_in_years         [0.9863013698630136, 0.6575342465753424, 4.931...\n",
       "Total_repayment                    [1000.9041095890411, 17694.027397260274, 3003....\n",
       "Loan_Term_Category                 ['Short-Term', 'Medium-Term', 'Long-Term']\n",
       "Cat...\n",
       "dtype: object"
      ]
     },
     "execution_count": 400,
     "metadata": {},
     "output_type": "execute_result"
    }
   ],
   "source": [
    "df.apply(lambda x: x.unique())"
   ]
  },
  {
   "cell_type": "code",
   "execution_count": 401,
   "metadata": {},
   "outputs": [],
   "source": [
    "df = pd.get_dummies(df, columns=['Maritial_status', 'Job_position', 'Location'], drop_first=True)"
   ]
  },
  {
   "cell_type": "code",
   "execution_count": 402,
   "metadata": {},
   "outputs": [
    {
     "data": {
      "text/plain": [
       "Age                                [27, 35, 43, 28, 29, 38, 33, 37, 32, 47, 41, 4...\n",
       "Interest_rate_%                    [18, 12, 14, 15, 20, 19, 22, 26, 16, 17, 23, 1...\n",
       "Duration_of_stay_in_a_city          [24_60, 60_120, 120_9999, 12_24, 6_12, 3_6, 0_3]\n",
       "Children                                                            [c0, c1, c2, c3]\n",
       "Tenure_with_current_employer       [24_60, 12_18, 0_3, 60_120, 120_9999, 3_6, 18_...\n",
       "Term_of_existence_of_enterprise               [24_60, 12_24, 0_12, 120_9999, 60_120]\n",
       "Company_type                       [FS, FMG, OT, WB, EC, HI, MPP, ASTL, EOG, ITT,...\n",
       "Number_of_employees_in_company                  [100_9999, 51_100, 31_50, 0_5, 6_15]\n",
       "Goal_credit                        [consumer_credit, flat, house, overhaul, auto,...\n",
       "Result                                                                   [good, bad]\n",
       "Gender_Female                                                          [True, False]\n",
       "Gender_Male                                                            [False, True]\n",
       "Credit_sum_in_UAH                  [850, 16400, 2750, 615000, 2500, 2215, 54600, ...\n",
       "Income_in_UAH                      [674, 28290, 1588, 199629, 637, 745, 3648, 393...\n",
       "Costs_in_UAH                       [362, 14022, 767, 32800, 382, 355, 730, 15662,...\n",
       "Term_of_crediting_in_years         [0.9863013698630136, 0.6575342465753424, 4.931...\n",
       "Total_repayment                    [1000.9041095890411, 17694.027397260274, 3003....\n",
       "Loan_Term_Category                 ['Short-Term', 'Medium-Term', 'Long-Term']\n",
       "Cat...\n",
       "Maritial_status_DIVORCED                                               [False, True]\n",
       "Maritial_status_MARRIED                                                [False, True]\n",
       "Maritial_status_SINGLE                                                 [True, False]\n",
       "Job_position_MM                                                        [False, True]\n",
       "Job_position_PE                                                        [True, False]\n",
       "Job_position_SP                                                        [False, True]\n",
       "Job_position_TM                                                        [False, True]\n",
       "Location_UA                                                            [True, False]\n",
       "Location_USA                                                           [False, True]\n",
       "dtype: object"
      ]
     },
     "execution_count": 402,
     "metadata": {},
     "output_type": "execute_result"
    }
   ],
   "source": [
    "df.apply(lambda x: x.unique())"
   ]
  },
  {
   "cell_type": "code",
   "execution_count": 403,
   "metadata": {},
   "outputs": [],
   "source": [
    "from sklearn.preprocessing import LabelEncoder\n",
    "le = LabelEncoder()\n",
    "df['Number_of_employees_in_company'] = le.fit_transform(df['Number_of_employees_in_company'])"
   ]
  }
 ],
 "metadata": {
  "kernelspec": {
   "display_name": "myenv",
   "language": "python",
   "name": "python3"
  },
  "language_info": {
   "codemirror_mode": {
    "name": "ipython",
    "version": 3
   },
   "file_extension": ".py",
   "mimetype": "text/x-python",
   "name": "python",
   "nbconvert_exporter": "python",
   "pygments_lexer": "ipython3",
   "version": "3.12.6"
  }
 },
 "nbformat": 4,
 "nbformat_minor": 2
}
